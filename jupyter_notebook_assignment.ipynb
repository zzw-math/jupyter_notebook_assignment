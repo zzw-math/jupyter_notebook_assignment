{
 "cells": [
  {
   "cell_type": "markdown",
   "id": "b111b0b1",
   "metadata": {},
   "source": [
    "# Jupyter notebook assignment"
   ]
  },
  {
   "cell_type": "markdown",
   "id": "5f978260",
   "metadata": {},
   "source": [
    "This is an introduction. This notebook is for the assignment on coursera"
   ]
  },
  {
   "cell_type": "markdown",
   "id": "81613c00",
   "metadata": {},
   "source": [
    "Data science language includes:\n",
    "1. Python\n",
    "2. R\n",
    "3. SQL\n",
    "4. Java\n",
    "5. Julia\n",
    "6. Scala\n",
    "7. C/C++"
   ]
  },
  {
   "cell_type": "markdown",
   "id": "5c3030d1",
   "metadata": {},
   "source": [
    "Data science libraries includes:\n",
    "1. TensorFlow\n",
    "2. NumPy\n",
    "3. SciPy \n",
    "4. Pandas\n",
    "5. Matplotlib \n",
    "6. Keras"
   ]
  },
  {
   "cell_type": "markdown",
   "id": "acbe6d14",
   "metadata": {},
   "source": [
    "| Data management tools | Data integration and transformation tools | Data visualization tools |\n",
    "| --- | --- | --- |\n",
    "| MySQL | Apache AirFlow | Pixie Dust |\n",
    "| PostgreSQL | KubeFlow | Hue |\n",
    "| MongoSQL | Apache Kafka | Kibana |"
   ]
  },
  {
   "cell_type": "markdown",
   "id": "079851f5",
   "metadata": {},
   "source": [
    "$$ y = x^2 $$"
   ]
  },
  {
   "cell_type": "code",
   "execution_count": 2,
   "id": "827d31a7",
   "metadata": {},
   "outputs": [
    {
     "data": {
      "text/plain": [
       "3"
      ]
     },
     "execution_count": 2,
     "metadata": {},
     "output_type": "execute_result"
    }
   ],
   "source": [
    "1*2+1"
   ]
  },
  {
   "cell_type": "code",
   "execution_count": 5,
   "id": "5acd0f4c",
   "metadata": {},
   "outputs": [
    {
     "data": {
      "text/plain": [
       "2.0"
      ]
     },
     "execution_count": 5,
     "metadata": {},
     "output_type": "execute_result"
    }
   ],
   "source": [
    "def minute_to_hour(minute):\n",
    "    return minute/60\n",
    "minute_to_hour(120)"
   ]
  },
  {
   "cell_type": "markdown",
   "id": "680a4976",
   "metadata": {},
   "source": [
    "1. obj1\n",
    "2. obj2\n",
    "3. obj3"
   ]
  },
  {
   "cell_type": "markdown",
   "id": "111c23eb",
   "metadata": {},
   "source": [
    "Author'sname: Ziwen Zhong"
   ]
  }
 ],
 "metadata": {
  "kernelspec": {
   "display_name": "Python 3 (ipykernel)",
   "language": "python",
   "name": "python3"
  },
  "language_info": {
   "codemirror_mode": {
    "name": "ipython",
    "version": 3
   },
   "file_extension": ".py",
   "mimetype": "text/x-python",
   "name": "python",
   "nbconvert_exporter": "python",
   "pygments_lexer": "ipython3",
   "version": "3.10.4"
  }
 },
 "nbformat": 4,
 "nbformat_minor": 5
}
